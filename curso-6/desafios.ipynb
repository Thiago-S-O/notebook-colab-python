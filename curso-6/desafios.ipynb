{
 "cells": [
  {
   "cell_type": "markdown",
   "metadata": {},
   "source": [
    "**Solucione os problemas propostos através de códigos utilizando a base de dados disponibilizada no curso.**\n",
    "\n",
    "- Encontre os valores únicos das colunas \"Nível 1 - Setor\" e \"Estado\" para identificar as atividades econômicas presentes na base de dados e se todos os Estados do Brasil estão presentes no DataFrame.\n",
    "\n",
    "- Filtre o DataFrame somente com os dados dos Estados da região Sul do Brasil.\n",
    "\n",
    "- Filtre o DataFrame para exibir apenas os registros em que o campo \"Nível 1 - Setor\" seja igual a \"Mudança de Uso da Terra e Floresta\" e o campo \"Estado\" seja igual a \"AM\" (sigla para o Estado do Amazonas).\n",
    "\n",
    "- Encontre o valor máximo de emissão do ano de 2021 para os dados de \"Agropecuária\" no Estado do Pará."
   ]
  },
  {
   "cell_type": "markdown",
   "metadata": {},
   "source": [
    "**Solucione os problemas propostos através de códigos utilizando a base de dados disponibilizada no curso.**\n",
    "\n",
    "1) Faça um agrupamento de dados com base na coluna \"Nível 1 - Setor\" para visualizar o dicionário contendo as chaves de grupos formados e a lista de índices de cada grupo.\n",
    "\n",
    "2) Faça um agrupamento de dados com base na coluna \"Nível 1 - Setor\" e localize os dados do grupo \"Agropecuária\".\n",
    "\n",
    "3) Faça um agrupamento de dados com base na coluna \"Nível 1 - Setor\" para identificar a média de emissão de cada atividade econômica no ano de 2021.\n",
    "\n",
    "4) Faça um agrupamento de dados com base na coluna \"Nível 1 - Setor\" para identificar a soma de emissão de cada atividade econômica. Ordene os dados da maior para menor emissão."
   ]
  }
 ],
 "metadata": {
  "language_info": {
   "name": "python"
  }
 },
 "nbformat": 4,
 "nbformat_minor": 2
}
