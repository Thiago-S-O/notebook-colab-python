{
 "cells": [
  {
   "cell_type": "markdown",
   "metadata": {},
   "source": [
    "Para praticar os métodos aprendidos no decorrer dessa aula e também aprender novos, vamos realizar algumas análises utilizando um arquivo csv diferente: [alunos.csv](https://raw.githubusercontent.com/alura-cursos/pandas-conhecendo-a-biblioteca/main/desafios/alunos.csv).\n",
    "\n",
    "1) Importe o arquivo alunos.csv e armazene seu conteúdo em um DataFrame Pandas.\n",
    "\n",
    "2) Visualize as primeiras 7 linhas do DataFrame e as 5 últimas.\n",
    "\n",
    "3) Confira a quantidade de linhas e colunas desse DataFrame.\n",
    "\n",
    "4) Explore as colunas do DataFrame e analise os tipos dos dados presentes em cada coluna.\n",
    "\n",
    "Extra: Calcule algumas estatísticas descritivas básicas dos dados do DataFrame (média, desvio padrão, etc). Dica: pesquise pelo método describe."
   ]
  },
  {
   "cell_type": "markdown",
   "metadata": {},
   "source": [
    "O time de ML chegou com algumas demandas de última hora para resolvermos nesse momento da análise exploratória. Essas demandas são:\n",
    "\n",
    "1) Calcular a média de quartos por apartamento;\n",
    "\n",
    "2) Conferir quantos bairros únicos existem na nossa base de dados;\n",
    "\n",
    "3) Analisar quais bairros possuem a média de valor de aluguel mais elevadas;\n",
    "\n",
    "4) Criar um gráfico de barras horizontais que apresente os 5 bairros com as médias de valores de aluguel mais elevadas."
   ]
  }
 ],
 "metadata": {
  "language_info": {
   "name": "python"
  }
 },
 "nbformat": 4,
 "nbformat_minor": 2
}
