{
 "cells": [
  {
   "cell_type": "markdown",
   "metadata": {},
   "source": [
    "Para praticar os métodos aprendidos no decorrer dessa aula e também aprender novos, vamos realizar algumas análises utilizando um arquivo csv diferente: [alunos.csv](https://raw.githubusercontent.com/alura-cursos/pandas-conhecendo-a-biblioteca/main/desafios/alunos.csv).\n",
    "\n",
    "1) Importe o arquivo alunos.csv e armazene seu conteúdo em um DataFrame Pandas.\n",
    "\n",
    "2) Visualize as primeiras 7 linhas do DataFrame e as 5 últimas.\n",
    "\n",
    "3) Confira a quantidade de linhas e colunas desse DataFrame.\n",
    "\n",
    "4) Explore as colunas do DataFrame e analise os tipos dos dados presentes em cada coluna.\n",
    "\n",
    "Extra: Calcule algumas estatísticas descritivas básicas dos dados do DataFrame (média, desvio padrão, etc). Dica: pesquise pelo método describe."
   ]
  },
  {
   "cell_type": "markdown",
   "metadata": {},
   "source": [
    "O time de ML chegou com algumas demandas de última hora para resolvermos nesse momento da análise exploratória. Essas demandas são:\n",
    "\n",
    "1) Calcular a média de quartos por apartamento;\n",
    "\n",
    "2) Conferir quantos bairros únicos existem na nossa base de dados;\n",
    "\n",
    "3) Analisar quais bairros possuem a média de valor de aluguel mais elevadas;\n",
    "\n",
    "4) Criar um gráfico de barras horizontais que apresente os 5 bairros com as médias de valores de aluguel mais elevadas."
   ]
  },
  {
   "cell_type": "markdown",
   "metadata": {},
   "source": [
    "Para praticar os métodos aprendidos no decorrer dessa aula e também aprender novos, vamos realizar alguns tratamentos e seleções utilizando um arquivo csv diferente: alunos.csv.\n",
    "\n",
    "Esse arquivo é o mesmo utilizado para resolução dos desafios da aula 1 e possui dados referentes a alunos de um curso superior.\n",
    "\n",
    "Com base nisso, solucione os problemas propostos abaixo utilizando os conhecimentos adquiridos até aqui.\n",
    "\n",
    "1) Verifique se a base de dados possui dados nulos e, caso tenha, realize o tratamento desses dados nulos da forma que achar mais coerente com a situação.\n",
    "\n",
    "2) Os alunos \"Alice\" e \"Carlos\", não fazem mais parte da turma. Sendo assim, remova-os da base de dados.\n",
    "\n",
    "3) Aplique um filtro que selecione apenas os alunos que foram aprovados.\n",
    "\n",
    "4) Salve o DataFrame que possui apenas os alunos aprovados em um arquivo csv chamado \"alunos_aprovados.csv\".\n",
    "\n",
    "Extra: Ao conferir as notas dos alunos aprovados, notamos que algumas notas estavam incorretas. As alunas que tiraram nota 7.0, na verdade, tinham um ponto extra que não foi contabilizado. Sendo assim, substitua as notas 7.0 da base de dados por 8.0. Dica: pesquise pelo método replace."
   ]
  },
  {
   "cell_type": "markdown",
   "metadata": {},
   "source": [
    "Para praticar os métodos aprendidos no decorrer dessa aula e também aprender novos, vamos realizar alguns tratamentos e seleções utilizando um arquivo csv diferente: [alunos.csv](https://raw.githubusercontent.com/alura-cursos/pandas-conhecendo-a-biblioteca/main/desafios/alunos.csv).\n",
    "\n",
    "Esse arquivo é o mesmo utilizado para resolução dos desafios da aula 1 e 3 e possui dados referentes a alunos de um curso superior. Com base nisso, solucione os problemas propostos abaixo utilizando os conhecimentos adquiridos até aqui.\n",
    "\n",
    "1) Os alunos participaram de uma atividade extracurricular e ganharam pontos extras. Esses pontos extras correspondem a 40% da nota atual de cada um deles. Com base nisso, crie uma coluna chamada \"Pontos_extras\" que contenha os pontos extras de cada aluno, ou seja, 40% da nota atual deles.\n",
    "\n",
    "2) Crie mais uma coluna, chamada \"Notas_finais\" que possua as notas de cada aluno somada com os pontos extras.\n",
    "\n",
    "3) Como houve uma pontuação extra, alguns alunos que não tinham sido aprovados antes podem ter sido aprovados agora. Com base nisso, crie uma coluna chamada \"Aprovado_final\" com os seguintes valores:\n",
    "\n",
    "- True: caso o aluno esteja aprovado (nota final deve ser maior ou igual a 6);\n",
    "- False: caso o aluno esteja reprovado (nota final deve ser menor que 6).\n",
    "\n",
    "4) Faça uma seleção e verifique quais alunos não tinham sido aprovados anteriormente, mas foram aprovados após a soma dos pontos extras."
   ]
  },
  {
   "cell_type": "markdown",
   "metadata": {},
   "source": [
    "# Repositório dos desafios\n",
    "\n",
    "- https://github.com/alura-cursos/pandas-conhecendo-a-biblioteca\n",
    "\n",
    "# referência\n",
    "\n",
    "Pandas API (gratuito, inglês, código)\n",
    "\n",
    "A API do Pandas fornece uma grande quantidade de funcionalidades que podem ser utilizadas para manipular uma gama de diferentes tipos de dados, incluindo séries temporais, matrizes numéricas e muito mais. Pandas é uma biblioteca do Python que oferece estruturas de dados e funções poderosas para manipulação e análise de dados, possibilitando um trabalho rápido e intuitivo.\n",
    "- https://github.com/alura-cursos/pandas-conhecendo-a-biblioteca\n",
    "\n",
    "Python para análise de dados (pago, português, livro)\n",
    "\n",
    "\"Python Para Análise de Dados\" é um livro que ensina como manipular, processar, limpar e realizar análise de dados utilizando a linguagem de programação Python. Este livro é destinado a todos os analistas de dados e programadores interessados em usar Python para análise de dados. As técnicas e conceitos ensinados neste livro podem ser aplicadas em uma vasta gama de setores e profissões.\n",
    "- https://www.google.com.br/books/edition/Python_para_an%C3%A1lise_de_dados/Oj5FDwAAQBAJ?hl=pt-BR&gbpv=0\n"
   ]
  }
 ],
 "metadata": {
  "language_info": {
   "name": "python"
  }
 },
 "nbformat": 4,
 "nbformat_minor": 2
}
