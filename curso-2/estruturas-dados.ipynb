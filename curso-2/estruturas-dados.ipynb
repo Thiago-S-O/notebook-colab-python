{
 "cells": [
  {
   "cell_type": "markdown",
   "metadata": {},
   "source": [
    "Para instalar ou atualizar uma biblioteca no Python, podemos recorrer ao pip que é um gerenciador de bibliotecas no Python"
   ]
  },
  {
   "cell_type": "code",
   "execution_count": 2,
   "metadata": {},
   "outputs": [
    {
     "name": "stdout",
     "output_type": "stream",
     "text": [
      "Collecting matplotlib\n",
      "  Downloading matplotlib-3.9.2-cp310-cp310-win_amd64.whl (7.8 MB)\n",
      "     ---------------------------------------- 7.8/7.8 MB 4.2 MB/s eta 0:00:00\n",
      "Collecting kiwisolver>=1.3.1\n",
      "  Downloading kiwisolver-1.4.7-cp310-cp310-win_amd64.whl (55 kB)\n",
      "     -------------------------------------- 55.9/55.9 KB 971.0 kB/s eta 0:00:00\n",
      "Collecting pillow>=8\n",
      "  Downloading pillow-11.0.0-cp310-cp310-win_amd64.whl (2.6 MB)\n",
      "     ---------------------------------------- 2.6/2.6 MB 3.3 MB/s eta 0:00:00\n",
      "Requirement already satisfied: numpy>=1.23 in c:\\users\\thiag\\appdata\\local\\packages\\pythonsoftwarefoundation.python.3.10_qbz5n2kfra8p0\\localcache\\local-packages\\python310\\site-packages (from matplotlib) (2.1.1)\n",
      "Collecting cycler>=0.10\n",
      "  Downloading cycler-0.12.1-py3-none-any.whl (8.3 kB)\n",
      "Collecting fonttools>=4.22.0\n",
      "  Downloading fonttools-4.54.1-cp310-cp310-win_amd64.whl (2.2 MB)\n",
      "     ---------------------------------------- 2.2/2.2 MB 1.5 MB/s eta 0:00:00\n",
      "Collecting contourpy>=1.0.1\n",
      "  Downloading contourpy-1.3.0-cp310-cp310-win_amd64.whl (216 kB)\n",
      "     -------------------------------------- 216.0/216.0 KB 2.2 MB/s eta 0:00:00\n",
      "Collecting pyparsing>=2.3.1\n",
      "  Downloading pyparsing-3.2.0-py3-none-any.whl (106 kB)\n",
      "     -------------------------------------- 106.9/106.9 KB 1.5 MB/s eta 0:00:00\n",
      "Requirement already satisfied: packaging>=20.0 in c:\\users\\thiag\\appdata\\local\\packages\\pythonsoftwarefoundation.python.3.10_qbz5n2kfra8p0\\localcache\\local-packages\\python310\\site-packages (from matplotlib) (24.1)\n",
      "Requirement already satisfied: python-dateutil>=2.7 in c:\\users\\thiag\\appdata\\local\\packages\\pythonsoftwarefoundation.python.3.10_qbz5n2kfra8p0\\localcache\\local-packages\\python310\\site-packages (from matplotlib) (2.9.0.post0)\n",
      "Requirement already satisfied: six>=1.5 in c:\\users\\thiag\\appdata\\local\\packages\\pythonsoftwarefoundation.python.3.10_qbz5n2kfra8p0\\localcache\\local-packages\\python310\\site-packages (from python-dateutil>=2.7->matplotlib) (1.16.0)\n",
      "Installing collected packages: pyparsing, pillow, kiwisolver, fonttools, cycler, contourpy, matplotlib\n",
      "Successfully installed contourpy-1.3.0 cycler-0.12.1 fonttools-4.54.1 kiwisolver-1.4.7 matplotlib-3.9.2 pillow-11.0.0 pyparsing-3.2.0\n",
      "Note: you may need to restart the kernel to use updated packages.\n"
     ]
    },
    {
     "name": "stderr",
     "output_type": "stream",
     "text": [
      "WARNING: You are using pip version 22.0.4; however, version 24.3.1 is available.\n",
      "You should consider upgrading via the 'C:\\Users\\thiag\\AppData\\Local\\Microsoft\\WindowsApps\\PythonSoftwareFoundation.Python.3.10_qbz5n2kfra8p0\\python.exe -m pip install --upgrade pip' command.\n"
     ]
    }
   ],
   "source": [
    "# Instalando a biblioteca matplotlib pelo pip\n",
    "%pip install matplotlib"
   ]
  },
  {
   "cell_type": "code",
   "execution_count": 3,
   "metadata": {},
   "outputs": [],
   "source": [
    "# Importando uma biblioteca sem alias\n",
    "import matplotlib"
   ]
  },
  {
   "cell_type": "code",
   "execution_count": 4,
   "metadata": {},
   "outputs": [
    {
     "data": {
      "text/plain": [
       "'3.9.2'"
      ]
     },
     "execution_count": 4,
     "metadata": {},
     "output_type": "execute_result"
    }
   ],
   "source": [
    "matplotlib.__version__"
   ]
  },
  {
   "cell_type": "code",
   "execution_count": 5,
   "metadata": {},
   "outputs": [
    {
     "name": "stderr",
     "output_type": "stream",
     "text": [
      "Matplotlib is building the font cache; this may take a moment.\n"
     ]
    }
   ],
   "source": [
    "# Importando uma biblioteca com alias\n",
    "import matplotlib.pyplot as plt"
   ]
  },
  {
   "cell_type": "code",
   "execution_count": 6,
   "metadata": {},
   "outputs": [],
   "source": [
    "estudantes = [\"João\", \"Maria\", \"José\"]\n",
    "notas = [8.5, 9, 6.5]"
   ]
  },
  {
   "cell_type": "code",
   "execution_count": 7,
   "metadata": {},
   "outputs": [
    {
     "data": {
      "text/plain": [
       "<BarContainer object of 3 artists>"
      ]
     },
     "execution_count": 7,
     "metadata": {},
     "output_type": "execute_result"
    },
    {
     "data": {
      "image/png": "[encoded data removed]",
      "text/plain": [
       "<Figure size 640x480 with 1 Axes>"
      ]
     },
     "metadata": {},
     "output_type": "display_data"
    }
   ],
   "source": [
    "plt.bar(x = estudantes, height = notas)"
   ]
  },
  {
   "cell_type": "code",
   "execution_count": 8,
   "metadata": {},
   "outputs": [],
   "source": [
    "# Importando uma função específica de uma biblioteca \n",
    "from random import choice"
   ]
  },
  {
   "cell_type": "code",
   "execution_count": 13,
   "metadata": {},
   "outputs": [
    {
     "data": {
      "text/plain": [
       "'João'"
      ]
     },
     "execution_count": 13,
     "metadata": {},
     "output_type": "execute_result"
    }
   ],
   "source": [
    "estudante = choice(estudantes)\n",
    "estudante"
   ]
  },
  {
   "cell_type": "markdown",
   "metadata": {},
   "source": [
    "Calculo da média e status do boletim do estudante:"
   ]
  },
  {
   "cell_type": "code",
   "execution_count": 1,
   "metadata": {},
   "outputs": [],
   "source": [
    "# Notas do(a) estudante \n",
    "notas = [6.0, 7.0, 9.0, 5.0]"
   ]
  },
  {
   "cell_type": "code",
   "execution_count": 2,
   "metadata": {},
   "outputs": [],
   "source": [
    "def boletim(lista):\n",
    "    media = sum(lista) / len(lista)\n",
    "    \n",
    "    if media >= 6:\n",
    "        situacao = \"Aprovado(a)\"\n",
    "    else:\n",
    "        situacao = \"Reprovado(a)\"\n",
    "    # tupla retornando a média e o status de aprovação do aluno\n",
    "    return (media, situacao)"
   ]
  },
  {
   "cell_type": "code",
   "execution_count": 3,
   "metadata": {},
   "outputs": [
    {
     "data": {
      "text/plain": [
       "(6.75, 'Aprovado(a)')"
      ]
     },
     "execution_count": 3,
     "metadata": {},
     "output_type": "execute_result"
    }
   ],
   "source": [
    "boletim(notas)"
   ]
  },
  {
   "cell_type": "code",
   "execution_count": 5,
   "metadata": {},
   "outputs": [
    {
     "name": "stdout",
     "output_type": "stream",
     "text": [
      "O(a) estudante atingiu uma média de 6.75 e foi Aprovado(a).\n"
     ]
    }
   ],
   "source": [
    "media, situacao = boletim(notas)\n",
    "\n",
    "print(f'O(a) estudante atingiu uma média de {media} e foi {situacao}.')"
   ]
  },
  {
   "cell_type": "markdown",
   "metadata": {},
   "source": [
    "aplicação de funções lambda, funções executadas em um única linha"
   ]
  },
  {
   "cell_type": "code",
   "execution_count": null,
   "metadata": {},
   "outputs": [
    {
     "name": "stdout",
     "output_type": "stream",
     "text": [
      "O(a) estudante atingiu uma média de 6.2\n"
     ]
    }
   ],
   "source": [
    "# Recebendo as notas e calculando a média ponderável\n",
    "N1 = float(input(\"Digite a 1ª nota do(a) estudante: \"))\n",
    "N2 = float(input(\"Digite a 2ª nota do(a) estudante: \"))\n",
    "N3 = float(input(\"Digite a 3ª nota do(a) estudante: \"))\n",
    "\n",
    "# função lambda\n",
    "media_ponderavel = lambda x, y, z: (x * 3 + y * 2 + z * 5)/10\n",
    "media_estudante = media_ponderavel(N1, N2, N3)\n",
    "media_estudante\n",
    "\n",
    "# Exibindo a média\n",
    "print(f'O(a) estudante atingiu uma média de {media_estudante}')"
   ]
  },
  {
   "cell_type": "markdown",
   "metadata": {},
   "source": [
    "aplicação do lambda junto ao map para listas "
   ]
  },
  {
   "cell_type": "code",
   "execution_count": 7,
   "metadata": {},
   "outputs": [],
   "source": [
    "# Notas do(a) estudante\n",
    "notas = [6.0, 7.0, 9.0, 5.5, 8.0]\n",
    "qualitativo = 0.5"
   ]
  },
  {
   "cell_type": "code",
   "execution_count": 8,
   "metadata": {},
   "outputs": [
    {
     "data": {
      "text/plain": [
       "[6.5, 7.5, 9.5, 6.0, 8.5]"
      ]
     },
     "execution_count": 8,
     "metadata": {},
     "output_type": "execute_result"
    }
   ],
   "source": [
    "# Não conseguimos aplicar o lambda em lista direto, é necessário utilizarmos junto a ela a função map\n",
    "notas_atualizadas = map(lambda x: x + qualitativo, notas)\n",
    "\n",
    "# convertendo em lista o interável\n",
    "notas_atualizadas = list(notas_atualizadas)\n",
    "\n",
    "# print da lista\n",
    "notas_atualizadas"
   ]
  },
  {
   "cell_type": "code",
   "execution_count": 9,
   "metadata": {},
   "outputs": [
    {
     "data": {
      "text/plain": [
       "[32.0, 77.0, 98.6, 172.4, 212.0]"
      ]
     },
     "execution_count": 9,
     "metadata": {},
     "output_type": "execute_result"
    }
   ],
   "source": [
    "temp_celsius = [0, 25, 37, 78, 100]\n",
    "temp_fahrenheit = list(map(lambda x: (x * 9/5) + 32, temp_celsius))\n",
    "temp_fahrenheit"
   ]
  },
  {
   "cell_type": "markdown",
   "metadata": {},
   "source": [
    "listas de lista "
   ]
  },
  {
   "cell_type": "code",
   "execution_count": 1,
   "metadata": {},
   "outputs": [],
   "source": [
    "notas_turma = ['João', 8.0, 9.0, 10.0, 'Maria', 9.0, 7.0, 6.0, 'José', 3.4, 7.0, 7.0, 'Cláudia', 5.5, 6.6, 8.0, 'Ana', 6.0, 10.0, 9.5]"
   ]
  },
  {
   "cell_type": "code",
   "execution_count": 3,
   "metadata": {},
   "outputs": [
    {
     "name": "stdout",
     "output_type": "stream",
     "text": [
      "nomes: ['João', 'Maria', 'José', 'Cláudia', 'Ana'] \n",
      "notas juntas: [8.0, 9.0, 10.0, 9.0, 7.0, 6.0, 3.4, 7.0, 7.0, 5.5, 6.6, 8.0, 6.0, 10.0, 9.5]\n"
     ]
    }
   ],
   "source": [
    "nomes = []\n",
    "notas_juntas = []\n",
    "\n",
    "for i in range(len(notas_turma)): \n",
    "  if i % 4 ==0: \n",
    "      nomes.append(notas_turma[i])\n",
    "  else: \n",
    "      notas_juntas.append(notas_turma[i])\n",
    "\n",
    "print(f'nomes: {nomes} \\nnotas juntas: {notas_juntas}')"
   ]
  },
  {
   "cell_type": "code",
   "execution_count": 4,
   "metadata": {},
   "outputs": [
    {
     "data": {
      "text/plain": [
       "[[8.0, 9.0, 10.0],\n",
       " [9.0, 7.0, 6.0],\n",
       " [3.4, 7.0, 7.0],\n",
       " [5.5, 6.6, 8.0],\n",
       " [6.0, 10.0, 9.5]]"
      ]
     },
     "execution_count": 4,
     "metadata": {},
     "output_type": "execute_result"
    }
   ],
   "source": [
    "# separando as notas de cada aluno em listas dentro de uma lista maior\n",
    "notas = []\n",
    "\n",
    "for i in range(0, len(notas_juntas), 3): \n",
    "  notas.append([notas_juntas[i], notas_juntas[i+1], notas_juntas[i+2]])\n",
    "notas"
   ]
  },
  {
   "cell_type": "markdown",
   "metadata": {},
   "source": [
    "tuplas de listas"
   ]
  },
  {
   "cell_type": "code",
   "execution_count": 5,
   "metadata": {},
   "outputs": [],
   "source": [
    "estudantes = [\"João\", \"Maria\", \"José\", \"Cláudia\", \"Ana\"]"
   ]
  },
  {
   "cell_type": "code",
   "execution_count": 6,
   "metadata": {},
   "outputs": [],
   "source": [
    "from random import randint\n",
    "\n",
    "def gera_codigo():\n",
    "  return str(randint(0,999))"
   ]
  },
  {
   "cell_type": "code",
   "execution_count": 8,
   "metadata": {},
   "outputs": [
    {
     "data": {
      "text/plain": [
       "[('João', 'J156'),\n",
       " ('Maria', 'M585'),\n",
       " ('José', 'J498'),\n",
       " ('Cláudia', 'C321'),\n",
       " ('Ana', 'A383')]"
      ]
     },
     "execution_count": 8,
     "metadata": {},
     "output_type": "execute_result"
    }
   ],
   "source": [
    "codigo_estudantes = []\n",
    "\n",
    "for i in range(len(estudantes)): \n",
    "  codigo_estudantes.append((estudantes[i], estudantes[i][0] + gera_codigo()))\n",
    "\n",
    "codigo_estudantes"
   ]
  },
  {
   "cell_type": "markdown",
   "metadata": {},
   "source": [
    "List Comprehension\n",
    "A List comprehension é uma forma simples e concisa de criar listas, sendo que essas listas seguirão alguns padrões, via condicionais, laços e outras expressões."
   ]
  },
  {
   "cell_type": "code",
   "execution_count": 9,
   "metadata": {},
   "outputs": [],
   "source": [
    "notas = [[8.0, 9.0, 10.0], [9.0, 7.0, 6.0], [3.4, 7.0, 7.0], [5.5, 6.6, 8.0], [6.0, 10.0, 9.5]]\n",
    "\n",
    "def media(lista: list=[0]) -> float:\n",
    "  ''' Função para calcular a média de notas passadas por uma lista\n",
    "\n",
    "  lista: list, default [0]\n",
    "    Lista com as notas para calcular a média\n",
    "  return = calculo: float\n",
    "    Média calculada\n",
    "  '''\n",
    "  \n",
    "  calculo = sum(lista) / len(lista)\n",
    "\n",
    "  return calculo"
   ]
  },
  {
   "cell_type": "code",
   "execution_count": 10,
   "metadata": {},
   "outputs": [
    {
     "data": {
      "text/plain": [
       "[9.0, 7.3, 5.8, 6.7, 8.5]"
      ]
     },
     "execution_count": 10,
     "metadata": {},
     "output_type": "execute_result"
    }
   ],
   "source": [
    "medias = [round(media(nota), 1) for nota in notas]\n",
    "medias"
   ]
  },
  {
   "cell_type": "markdown",
   "metadata": {},
   "source": [
    "Agora, utilizar as médias calculadas no exemplo anterior, pareando com o nome dos estudantes."
   ]
  },
  {
   "cell_type": "code",
   "execution_count": 11,
   "metadata": {},
   "outputs": [
    {
     "data": {
      "text/plain": [
       "['João', 'Maria', 'José', 'Cláudia', 'Ana']"
      ]
     },
     "execution_count": 11,
     "metadata": {},
     "output_type": "execute_result"
    }
   ],
   "source": [
    "nomes = [('João', 'J720'), ('Maria', 'M205'), ('José', 'J371'), ('Cláudia', 'C546'), ('Ana', 'A347')]\n",
    "medias = [9.0, 7.3, 5.8, 6.7, 8.5]\n",
    "\n",
    "lista_nomes = [nome[0] for nome in nomes]\n",
    "lista_nomes"
   ]
  },
  {
   "cell_type": "code",
   "execution_count": 12,
   "metadata": {},
   "outputs": [
    {
     "data": {
      "text/plain": [
       "[(('João', 'J720'), 9.0),\n",
       " (('Maria', 'M205'), 7.3),\n",
       " (('José', 'J371'), 5.8),\n",
       " (('Cláudia', 'C546'), 6.7),\n",
       " (('Ana', 'A347'), 8.5)]"
      ]
     },
     "execution_count": 12,
     "metadata": {},
     "output_type": "execute_result"
    }
   ],
   "source": [
    "estudantes = list(zip(nomes, medias))\n",
    "estudantes"
   ]
  },
  {
   "cell_type": "code",
   "execution_count": null,
   "metadata": {},
   "outputs": [
    {
     "data": {
      "text/plain": [
       "[('João', 'J720'), ('Ana', 'A347')]"
      ]
     },
     "execution_count": 13,
     "metadata": {},
     "output_type": "execute_result"
    }
   ],
   "source": [
    "# filtrar os estudante com notas >= a 8.0\n",
    "candidatos = [estudante[0] for estudante in estudantes if estudante[1] >= 8]\n",
    "candidatos"
   ]
  }
 ],
 "metadata": {
  "kernelspec": {
   "display_name": "Python 3",
   "language": "python",
   "name": "python3"
  },
  "language_info": {
   "codemirror_mode": {
    "name": "ipython",
    "version": 3
   },
   "file_extension": ".py",
   "mimetype": "text/x-python",
   "name": "python",
   "nbconvert_exporter": "python",
   "pygments_lexer": "ipython3",
   "version": "3.10.11"
  }
 },
 "nbformat": 4,
 "nbformat_minor": 2
}
