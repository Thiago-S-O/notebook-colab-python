{
 "cells": [
  {
   "cell_type": "markdown",
   "metadata": {},
   "source": [
    "Para acompanhar o desenvolvimento dos projetos e reproduzir tudo o que foi feito, basta fazer o download dos arquivos no GitHub. https://github.com/alura-cursos/Pandas\n",
    "\n",
    "Para fazer download de um arquivo de um repositório do GitHub, siga as seguintes etapas:\n",
    "\n",
    "- Vá para o repositório do GitHub que contém o arquivo que você deseja baixar.\n",
    "- Clique no arquivo que deseja baixar para visualizá-lo.\n",
    "- Clique no botão chamado Raw na parte superior da página do arquivo.\n",
    "- O conteúdo do arquivo será exibido em uma nova guia do navegador. Para baixá-lo, clique com o botão direito do mouse na página e selecione \"Salvar como\" no menu.\n",
    "- Escolha um local no seu computador para salvar o arquivo e clique em \"Salvar\". O arquivo será salvo no local escolhido em seu computador em seu formato original."
   ]
  },
  {
   "cell_type": "markdown",
   "metadata": {},
   "source": [
    "Chegou a hora de você testar os conhecimentos desenvolvidos durante a aula. Temos um **arquivo no formato CSV**, que foi obtido na página **Informações de Saúde (TABNET) - DATASUS** https://datasus.saude.gov.br/informacoes-de-saude-tabnet/. Este arquivo contém os gastos hospitalares públicos de cada uma das Unidades da Federação brasileira no período de janeiro de 2008 a março de 2021.\n",
    "\n",
    "Seu desafio aqui será fazer a leitura desse arquivo utilizando a função read_csv da biblioteca Pandas. Alguns parâmetros devem ser adicionados para que a leitura seja feita corretamente. Então, seguem algumas dicas:\n",
    "\n",
    "- Verifique se o arquivo CSV está separado por vírgula ou ponto e vírgula.\n",
    "- A codificação do arquivo é ISO-8859-1.\n",
    "- As três primeiras linhas linhas do arquivo podem ser desconsideradas, pois o cabeçalho só começa na quarta linha.\n",
    "- As 9 últimas linhas também podem ser desconsideradas, pois são apenas informações sobre onde os dados foram obtidos.\n",
    "- Para deletar as últimas linhas é necessário adicionar o parâmetro *engine='python'*."
   ]
  },
  {
   "cell_type": "markdown",
   "metadata": {},
   "source": [
    "Chegou a hora de você testar os conhecimentos desenvolvidos durante a aula. Nós temos um **link do Google Planilhas** https://docs.google.com/spreadsheets/d/1pvBoLyX8kP0TjtUbadVMGdTl4yzm6bHMThhPiqCVtpw/edit?usp=sharing que contém dados importantes sobre as emissões de gás carbônico pelo mundo. O conjunto de dados foi obtido no **Kaggle** https://www.kaggle.com/datasets/koustavghosh149/co2-emission-around-the-world e consiste em emissões de CO2 per capita de todos os países do mundo de 1990 a 2019.\n",
    "\n",
    "Neste desafio, a sua função é efetuar a leitura desse link do Google Planilhas e depois salvar o DataFrame obtido no formato CSV."
   ]
  },
  {
   "cell_type": "markdown",
   "metadata": {},
   "source": [
    "O DataFrame mostrado abaixo foi gerado após a obtenção de dados da API JSON **Placeholder** https://jsonplaceholder.typicode.com/users:\n",
    "\n",
    "Este DataFrame possui 8 colunas: id, name (nome), username (nome de usuário), email , address (endereço), phone(telefone), website e company (empresa). Note que as colunas address e company contém informações aninhadas, ou seja, os dados dessas colunas estão organizados em subcampos. Por exemplo, na coluna address, você encontrará subcampos como street (rua), suite (complemento), city (cidade) e zipcode (CEP). Já na coluna company, os subcampos incluem name (nome da empresa), catchPhrase (slogan) e bs (área de atuação). Isso significa que, para acessar essas informações, é necessário realizar o processo de normalização.\n",
    "\n",
    "O desafio agora é normalizar esse DataFrame, expandindo as colunas address e company em suas respectivas subcolunas para facilitar a visualização e a análise dos dados."
   ]
  },
  {
   "cell_type": "markdown",
   "metadata": {},
   "source": [
    "Vanessa é uma cientista de dados que está realizando algumas análises com dados ambientais. Ela está desenvolvendo um projeto para avaliar o impacto ambiental das atividades humanas em diferentes países do mundo, mas para isso precisa das estimativas populacionais desses países. Ao pesquisar na internet, encontrou uma tabela de estimativas populacionais em um artigo da página **Wikipédia** https://pt.wikipedia.org/wiki/Lista_de_pa%C3%ADses_por_popula%C3%A7%C3%A3o.\n",
    "\n",
    "Assim como Vanessa, seu desafio é obter um DataFrame da tabela que contém as informações do número de habitantes de cada país."
   ]
  },
  {
   "cell_type": "markdown",
   "metadata": {},
   "source": [
    "Você é responsável por criar um banco de dados local de clientes para uma instituição financeira. Temos o **arquivo CSV** https://raw.githubusercontent.com/alura-cursos/Pandas/main/clientes_banco.csv com os dados de clientes.\n",
    "\n",
    "Sua missão é:\n",
    "\n",
    "- Criar o banco de dados local com a biblioteca **SQLAlchemy**.\n",
    "- Escrever os dados do arquivo CSV neste banco de dados local.\n",
    "- Realizar três atualizações no banco de dados:\n",
    "- Atualizar o registro do cliente de ID 6840104 que teve o rendimento anual alterado para 300000.\n",
    "- Excluir o registro do cliente de ID 5008809, pois essa pessoa não possui mais conta na instituição financeira.\n",
    "- Criar um novo registro de cliente seguindo as especificações abaixo:\n",
    "- ID_Cliente: 6850985\n",
    "- Idade: 33\n",
    "- Grau_escolaridade: Doutorado\n",
    "- Estado_civil: Solteiro\n",
    "- Tamanho_familia: 1\n",
    "- Categoria_de_renda: Empregado\n",
    "- Ocupacao: TI\n",
    "- Anos_empregado: 2\n",
    "- Rendimento_anual: 290000\n",
    "- Tem_carro: 0\n",
    "- Moradia: Casa/apartamento próprio\n",
    "\n",
    "**Dica importante**: Para adicionar um(a) novo(a) cliente à tabela, utilize a cláusula *INSERT INTO* seguida do nome da tabela e depois especifique entre parênteses os nomes das colunas da tabela. Utilize a cláusula *VALUES* e, em seguida, passe entre parênteses os novos valores para esse novo registro. Certifique-se de que os valores estejam na ordem correta e no formato adequado para cada coluna."
   ]
  }
 ],
 "metadata": {
  "language_info": {
   "name": "python"
  }
 },
 "nbformat": 4,
 "nbformat_minor": 2
}
