{
 "cells": [
  {
   "cell_type": "markdown",
   "metadata": {},
   "source": [
    "Para acompanhar o desenvolvimento dos projetos e reproduzir tudo o que foi feito, basta fazer o download dos arquivos no GitHub. https://github.com/alura-cursos/Pandas\n",
    "\n",
    "Para fazer download de um arquivo de um repositório do GitHub, siga as seguintes etapas:\n",
    "\n",
    "- Vá para o repositório do GitHub que contém o arquivo que você deseja baixar.\n",
    "- Clique no arquivo que deseja baixar para visualizá-lo.\n",
    "- Clique no botão chamado Raw na parte superior da página do arquivo.\n",
    "- O conteúdo do arquivo será exibido em uma nova guia do navegador. Para baixá-lo, clique com o botão direito do mouse na página e selecione \"Salvar como\" no menu.\n",
    "- Escolha um local no seu computador para salvar o arquivo e clique em \"Salvar\". O arquivo será salvo no local escolhido em seu computador em seu formato original."
   ]
  },
  {
   "cell_type": "markdown",
   "metadata": {},
   "source": [
    "Chegou a hora de você testar os conhecimentos desenvolvidos durante a aula. Temos um **arquivo no formato CSV**, que foi obtido na página **Informações de Saúde (TABNET) - DATASUS** https://datasus.saude.gov.br/informacoes-de-saude-tabnet/. Este arquivo contém os gastos hospitalares públicos de cada uma das Unidades da Federação brasileira no período de janeiro de 2008 a março de 2021.\n",
    "\n",
    "Seu desafio aqui será fazer a leitura desse arquivo utilizando a função read_csv da biblioteca Pandas. Alguns parâmetros devem ser adicionados para que a leitura seja feita corretamente. Então, seguem algumas dicas:\n",
    "\n",
    "- Verifique se o arquivo CSV está separado por vírgula ou ponto e vírgula.\n",
    "- A codificação do arquivo é ISO-8859-1.\n",
    "- As três primeiras linhas linhas do arquivo podem ser desconsideradas, pois o cabeçalho só começa na quarta linha.\n",
    "- As 9 últimas linhas também podem ser desconsideradas, pois são apenas informações sobre onde os dados foram obtidos.\n",
    "- Para deletar as últimas linhas é necessário adicionar o parâmetro *engine='python'*."
   ]
  },
  {
   "cell_type": "markdown",
   "metadata": {},
   "source": [
    "Chegou a hora de você testar os conhecimentos desenvolvidos durante a aula. Nós temos um **link do Google Planilhas** https://docs.google.com/spreadsheets/d/1pvBoLyX8kP0TjtUbadVMGdTl4yzm6bHMThhPiqCVtpw/edit?usp=sharing que contém dados importantes sobre as emissões de gás carbônico pelo mundo. O conjunto de dados foi obtido no **Kaggle** https://www.kaggle.com/datasets/koustavghosh149/co2-emission-around-the-world e consiste em emissões de CO2 per capita de todos os países do mundo de 1990 a 2019.\n",
    "\n",
    "Neste desafio, a sua função é efetuar a leitura desse link do Google Planilhas e depois salvar o DataFrame obtido no formato CSV."
   ]
  }
 ],
 "metadata": {
  "language_info": {
   "name": "python"
  }
 },
 "nbformat": 4,
 "nbformat_minor": 2
}
