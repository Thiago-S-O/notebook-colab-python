{
 "cells": [
  {
   "cell_type": "markdown",
   "metadata": {},
   "source": [
    "Para acompanhar o desenvolvimento dos projetos e reproduzir tudo o que foi feito, basta fazer o download dos arquivos no GitHub. https://github.com/alura-cursos/Pandas\n",
    "\n",
    "Para fazer download de um arquivo de um repositório do GitHub, siga as seguintes etapas:\n",
    "\n",
    "- Vá para o repositório do GitHub que contém o arquivo que você deseja baixar.\n",
    "- Clique no arquivo que deseja baixar para visualizá-lo.\n",
    "- Clique no botão chamado Raw na parte superior da página do arquivo.\n",
    "- O conteúdo do arquivo será exibido em uma nova guia do navegador. Para baixá-lo, clique com o botão direito do mouse na página e selecione \"Salvar como\" no menu.\n",
    "- Escolha um local no seu computador para salvar o arquivo e clique em \"Salvar\". O arquivo será salvo no local escolhido em seu computador em seu formato original."
   ]
  }
 ],
 "metadata": {
  "language_info": {
   "name": "python"
  }
 },
 "nbformat": 4,
 "nbformat_minor": 2
}
